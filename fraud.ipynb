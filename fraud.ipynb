{
  "nbformat": 4,
  "nbformat_minor": 0,
  "metadata": {
    "colab": {
      "provenance": [],
      "authorship_tag": "ABX9TyP3l6eLGUVD1qgOQvlHDT6Y",
      "include_colab_link": true
    },
    "kernelspec": {
      "name": "python3",
      "display_name": "Python 3"
    },
    "language_info": {
      "name": "python"
    }
  },
  "cells": [
    {
      "cell_type": "markdown",
      "metadata": {
        "id": "view-in-github",
        "colab_type": "text"
      },
      "source": [
        "<a href=\"https://colab.research.google.com/github/sergekamanzi/Fraud-Detection/blob/main/fraud.ipynb\" target=\"_parent\"><img src=\"https://colab.research.google.com/assets/colab-badge.svg\" alt=\"Open In Colab\"/></a>"
      ]
    },
    {
      "cell_type": "code",
      "source": [],
      "metadata": {
        "id": "FU6ETjOVt3P9"
      },
      "execution_count": 48,
      "outputs": []
    },
    {
      "cell_type": "code",
      "source": [
        "import pandas as pd\n",
        "import numpy as np\n",
        "import tensorflow as tf\n",
        "from tensorflow.keras.models import Model\n",
        "from tensorflow.keras.layers import Dense, Dropout, BatchNormalization, Input, Add\n",
        "from tensorflow.keras.optimizers import Adam\n",
        "from tensorflow.keras.optimizers import SGD\n",
        "from tensorflow.keras.optimizers import Nadam\n",
        "from tensorflow.keras.optimizers import RMSprop\n",
        "from sklearn.linear_model import LogisticRegression\n",
        "from tensorflow.keras.regularizers import l1\n",
        "from tensorflow.keras.regularizers import l2\n",
        "from tensorflow.keras.regularizers import l1_l2\n",
        "from tensorflow.keras.callbacks import EarlyStopping\n",
        "from sklearn.model_selection import train_test_split, GridSearchCV\n",
        "from sklearn.preprocessing import StandardScaler, LabelEncoder\n",
        "from sklearn.utils.class_weight import compute_class_weight\n",
        "from sklearn.feature_selection import SelectKBest, f_classif\n",
        "from tensorflow.keras.models import Sequential\n",
        "from sklearn.metrics import accuracy_score, f1_score, confusion_matrix, precision_score, recall_score, precision_recall_curve\n",
        "from imblearn.over_sampling import SMOTE\n",
        "import seaborn as sns\n",
        "import matplotlib.pyplot as plt\n",
        "import tensorflow.keras.backend as K\n",
        "from tensorflow.keras.losses import binary_crossentropy"
      ],
      "metadata": {
        "id": "4K4izl6zQNsi"
      },
      "execution_count": 49,
      "outputs": []
    },
    {
      "cell_type": "code",
      "source": [
        "# Load Dataset\n",
        "data = pd.read_csv('/content/frauds_dataset.csv')\n",
        "data.head()"
      ],
      "metadata": {
        "id": "xv-lcVLAQWPm",
        "outputId": "801901e1-00b8-48cd-8cc7-9fbd44452b68",
        "colab": {
          "base_uri": "https://localhost:8080/",
          "height": 226
        }
      },
      "execution_count": 50,
      "outputs": [
        {
          "output_type": "execute_result",
          "data": {
            "text/plain": [
              "    step      type      amount     nameOrig  oldbalanceOrg  newbalanceOrig  \\\n",
              "0  380.0  CASH_OUT    92888.94  C2054348498       27657.00            0.00   \n",
              "1  646.0  TRANSFER   399045.08   C724693370    10399045.08     10399045.08   \n",
              "2  384.0   CASH_IN    35416.73  C1095508813     1154711.52      1190128.25   \n",
              "3  518.0   CASH_IN    52211.31  C1867780533        2985.00        55196.31   \n",
              "4  450.0  CASH_OUT  1463764.35  C2142422300     1463764.35            0.00   \n",
              "\n",
              "      nameDest  oldbalanceDest  newbalanceDest  isFraud  isFlaggedFraud  \n",
              "0  C1853199806      5838781.76      5931670.70      0.0             0.0  \n",
              "1  C1909486199            0.00            0.00      1.0             1.0  \n",
              "2   C961243143       927932.70       892515.97      0.0             0.0  \n",
              "3  C1425168473       433652.93       381441.62      0.0             0.0  \n",
              "4  C1173885211       385211.95      1848976.30      1.0             0.0  "
            ],
            "text/html": [
              "\n",
              "  <div id=\"df-87699c26-872f-4524-b0b9-fc9c7df25ab1\" class=\"colab-df-container\">\n",
              "    <div>\n",
              "<style scoped>\n",
              "    .dataframe tbody tr th:only-of-type {\n",
              "        vertical-align: middle;\n",
              "    }\n",
              "\n",
              "    .dataframe tbody tr th {\n",
              "        vertical-align: top;\n",
              "    }\n",
              "\n",
              "    .dataframe thead th {\n",
              "        text-align: right;\n",
              "    }\n",
              "</style>\n",
              "<table border=\"1\" class=\"dataframe\">\n",
              "  <thead>\n",
              "    <tr style=\"text-align: right;\">\n",
              "      <th></th>\n",
              "      <th>step</th>\n",
              "      <th>type</th>\n",
              "      <th>amount</th>\n",
              "      <th>nameOrig</th>\n",
              "      <th>oldbalanceOrg</th>\n",
              "      <th>newbalanceOrig</th>\n",
              "      <th>nameDest</th>\n",
              "      <th>oldbalanceDest</th>\n",
              "      <th>newbalanceDest</th>\n",
              "      <th>isFraud</th>\n",
              "      <th>isFlaggedFraud</th>\n",
              "    </tr>\n",
              "  </thead>\n",
              "  <tbody>\n",
              "    <tr>\n",
              "      <th>0</th>\n",
              "      <td>380.0</td>\n",
              "      <td>CASH_OUT</td>\n",
              "      <td>92888.94</td>\n",
              "      <td>C2054348498</td>\n",
              "      <td>27657.00</td>\n",
              "      <td>0.00</td>\n",
              "      <td>C1853199806</td>\n",
              "      <td>5838781.76</td>\n",
              "      <td>5931670.70</td>\n",
              "      <td>0.0</td>\n",
              "      <td>0.0</td>\n",
              "    </tr>\n",
              "    <tr>\n",
              "      <th>1</th>\n",
              "      <td>646.0</td>\n",
              "      <td>TRANSFER</td>\n",
              "      <td>399045.08</td>\n",
              "      <td>C724693370</td>\n",
              "      <td>10399045.08</td>\n",
              "      <td>10399045.08</td>\n",
              "      <td>C1909486199</td>\n",
              "      <td>0.00</td>\n",
              "      <td>0.00</td>\n",
              "      <td>1.0</td>\n",
              "      <td>1.0</td>\n",
              "    </tr>\n",
              "    <tr>\n",
              "      <th>2</th>\n",
              "      <td>384.0</td>\n",
              "      <td>CASH_IN</td>\n",
              "      <td>35416.73</td>\n",
              "      <td>C1095508813</td>\n",
              "      <td>1154711.52</td>\n",
              "      <td>1190128.25</td>\n",
              "      <td>C961243143</td>\n",
              "      <td>927932.70</td>\n",
              "      <td>892515.97</td>\n",
              "      <td>0.0</td>\n",
              "      <td>0.0</td>\n",
              "    </tr>\n",
              "    <tr>\n",
              "      <th>3</th>\n",
              "      <td>518.0</td>\n",
              "      <td>CASH_IN</td>\n",
              "      <td>52211.31</td>\n",
              "      <td>C1867780533</td>\n",
              "      <td>2985.00</td>\n",
              "      <td>55196.31</td>\n",
              "      <td>C1425168473</td>\n",
              "      <td>433652.93</td>\n",
              "      <td>381441.62</td>\n",
              "      <td>0.0</td>\n",
              "      <td>0.0</td>\n",
              "    </tr>\n",
              "    <tr>\n",
              "      <th>4</th>\n",
              "      <td>450.0</td>\n",
              "      <td>CASH_OUT</td>\n",
              "      <td>1463764.35</td>\n",
              "      <td>C2142422300</td>\n",
              "      <td>1463764.35</td>\n",
              "      <td>0.00</td>\n",
              "      <td>C1173885211</td>\n",
              "      <td>385211.95</td>\n",
              "      <td>1848976.30</td>\n",
              "      <td>1.0</td>\n",
              "      <td>0.0</td>\n",
              "    </tr>\n",
              "  </tbody>\n",
              "</table>\n",
              "</div>\n",
              "    <div class=\"colab-df-buttons\">\n",
              "\n",
              "  <div class=\"colab-df-container\">\n",
              "    <button class=\"colab-df-convert\" onclick=\"convertToInteractive('df-87699c26-872f-4524-b0b9-fc9c7df25ab1')\"\n",
              "            title=\"Convert this dataframe to an interactive table.\"\n",
              "            style=\"display:none;\">\n",
              "\n",
              "  <svg xmlns=\"http://www.w3.org/2000/svg\" height=\"24px\" viewBox=\"0 -960 960 960\">\n",
              "    <path d=\"M120-120v-720h720v720H120Zm60-500h600v-160H180v160Zm220 220h160v-160H400v160Zm0 220h160v-160H400v160ZM180-400h160v-160H180v160Zm440 0h160v-160H620v160ZM180-180h160v-160H180v160Zm440 0h160v-160H620v160Z\"/>\n",
              "  </svg>\n",
              "    </button>\n",
              "\n",
              "  <style>\n",
              "    .colab-df-container {\n",
              "      display:flex;\n",
              "      gap: 12px;\n",
              "    }\n",
              "\n",
              "    .colab-df-convert {\n",
              "      background-color: #E8F0FE;\n",
              "      border: none;\n",
              "      border-radius: 50%;\n",
              "      cursor: pointer;\n",
              "      display: none;\n",
              "      fill: #1967D2;\n",
              "      height: 32px;\n",
              "      padding: 0 0 0 0;\n",
              "      width: 32px;\n",
              "    }\n",
              "\n",
              "    .colab-df-convert:hover {\n",
              "      background-color: #E2EBFA;\n",
              "      box-shadow: 0px 1px 2px rgba(60, 64, 67, 0.3), 0px 1px 3px 1px rgba(60, 64, 67, 0.15);\n",
              "      fill: #174EA6;\n",
              "    }\n",
              "\n",
              "    .colab-df-buttons div {\n",
              "      margin-bottom: 4px;\n",
              "    }\n",
              "\n",
              "    [theme=dark] .colab-df-convert {\n",
              "      background-color: #3B4455;\n",
              "      fill: #D2E3FC;\n",
              "    }\n",
              "\n",
              "    [theme=dark] .colab-df-convert:hover {\n",
              "      background-color: #434B5C;\n",
              "      box-shadow: 0px 1px 3px 1px rgba(0, 0, 0, 0.15);\n",
              "      filter: drop-shadow(0px 1px 2px rgba(0, 0, 0, 0.3));\n",
              "      fill: #FFFFFF;\n",
              "    }\n",
              "  </style>\n",
              "\n",
              "    <script>\n",
              "      const buttonEl =\n",
              "        document.querySelector('#df-87699c26-872f-4524-b0b9-fc9c7df25ab1 button.colab-df-convert');\n",
              "      buttonEl.style.display =\n",
              "        google.colab.kernel.accessAllowed ? 'block' : 'none';\n",
              "\n",
              "      async function convertToInteractive(key) {\n",
              "        const element = document.querySelector('#df-87699c26-872f-4524-b0b9-fc9c7df25ab1');\n",
              "        const dataTable =\n",
              "          await google.colab.kernel.invokeFunction('convertToInteractive',\n",
              "                                                    [key], {});\n",
              "        if (!dataTable) return;\n",
              "\n",
              "        const docLinkHtml = 'Like what you see? Visit the ' +\n",
              "          '<a target=\"_blank\" href=https://colab.research.google.com/notebooks/data_table.ipynb>data table notebook</a>'\n",
              "          + ' to learn more about interactive tables.';\n",
              "        element.innerHTML = '';\n",
              "        dataTable['output_type'] = 'display_data';\n",
              "        await google.colab.output.renderOutput(dataTable, element);\n",
              "        const docLink = document.createElement('div');\n",
              "        docLink.innerHTML = docLinkHtml;\n",
              "        element.appendChild(docLink);\n",
              "      }\n",
              "    </script>\n",
              "  </div>\n",
              "\n",
              "\n",
              "<div id=\"df-8726907c-7b2b-4ccd-83dd-f24d6d325ecf\">\n",
              "  <button class=\"colab-df-quickchart\" onclick=\"quickchart('df-8726907c-7b2b-4ccd-83dd-f24d6d325ecf')\"\n",
              "            title=\"Suggest charts\"\n",
              "            style=\"display:none;\">\n",
              "\n",
              "<svg xmlns=\"http://www.w3.org/2000/svg\" height=\"24px\"viewBox=\"0 0 24 24\"\n",
              "     width=\"24px\">\n",
              "    <g>\n",
              "        <path d=\"M19 3H5c-1.1 0-2 .9-2 2v14c0 1.1.9 2 2 2h14c1.1 0 2-.9 2-2V5c0-1.1-.9-2-2-2zM9 17H7v-7h2v7zm4 0h-2V7h2v10zm4 0h-2v-4h2v4z\"/>\n",
              "    </g>\n",
              "</svg>\n",
              "  </button>\n",
              "\n",
              "<style>\n",
              "  .colab-df-quickchart {\n",
              "      --bg-color: #E8F0FE;\n",
              "      --fill-color: #1967D2;\n",
              "      --hover-bg-color: #E2EBFA;\n",
              "      --hover-fill-color: #174EA6;\n",
              "      --disabled-fill-color: #AAA;\n",
              "      --disabled-bg-color: #DDD;\n",
              "  }\n",
              "\n",
              "  [theme=dark] .colab-df-quickchart {\n",
              "      --bg-color: #3B4455;\n",
              "      --fill-color: #D2E3FC;\n",
              "      --hover-bg-color: #434B5C;\n",
              "      --hover-fill-color: #FFFFFF;\n",
              "      --disabled-bg-color: #3B4455;\n",
              "      --disabled-fill-color: #666;\n",
              "  }\n",
              "\n",
              "  .colab-df-quickchart {\n",
              "    background-color: var(--bg-color);\n",
              "    border: none;\n",
              "    border-radius: 50%;\n",
              "    cursor: pointer;\n",
              "    display: none;\n",
              "    fill: var(--fill-color);\n",
              "    height: 32px;\n",
              "    padding: 0;\n",
              "    width: 32px;\n",
              "  }\n",
              "\n",
              "  .colab-df-quickchart:hover {\n",
              "    background-color: var(--hover-bg-color);\n",
              "    box-shadow: 0 1px 2px rgba(60, 64, 67, 0.3), 0 1px 3px 1px rgba(60, 64, 67, 0.15);\n",
              "    fill: var(--button-hover-fill-color);\n",
              "  }\n",
              "\n",
              "  .colab-df-quickchart-complete:disabled,\n",
              "  .colab-df-quickchart-complete:disabled:hover {\n",
              "    background-color: var(--disabled-bg-color);\n",
              "    fill: var(--disabled-fill-color);\n",
              "    box-shadow: none;\n",
              "  }\n",
              "\n",
              "  .colab-df-spinner {\n",
              "    border: 2px solid var(--fill-color);\n",
              "    border-color: transparent;\n",
              "    border-bottom-color: var(--fill-color);\n",
              "    animation:\n",
              "      spin 1s steps(1) infinite;\n",
              "  }\n",
              "\n",
              "  @keyframes spin {\n",
              "    0% {\n",
              "      border-color: transparent;\n",
              "      border-bottom-color: var(--fill-color);\n",
              "      border-left-color: var(--fill-color);\n",
              "    }\n",
              "    20% {\n",
              "      border-color: transparent;\n",
              "      border-left-color: var(--fill-color);\n",
              "      border-top-color: var(--fill-color);\n",
              "    }\n",
              "    30% {\n",
              "      border-color: transparent;\n",
              "      border-left-color: var(--fill-color);\n",
              "      border-top-color: var(--fill-color);\n",
              "      border-right-color: var(--fill-color);\n",
              "    }\n",
              "    40% {\n",
              "      border-color: transparent;\n",
              "      border-right-color: var(--fill-color);\n",
              "      border-top-color: var(--fill-color);\n",
              "    }\n",
              "    60% {\n",
              "      border-color: transparent;\n",
              "      border-right-color: var(--fill-color);\n",
              "    }\n",
              "    80% {\n",
              "      border-color: transparent;\n",
              "      border-right-color: var(--fill-color);\n",
              "      border-bottom-color: var(--fill-color);\n",
              "    }\n",
              "    90% {\n",
              "      border-color: transparent;\n",
              "      border-bottom-color: var(--fill-color);\n",
              "    }\n",
              "  }\n",
              "</style>\n",
              "\n",
              "  <script>\n",
              "    async function quickchart(key) {\n",
              "      const quickchartButtonEl =\n",
              "        document.querySelector('#' + key + ' button');\n",
              "      quickchartButtonEl.disabled = true;  // To prevent multiple clicks.\n",
              "      quickchartButtonEl.classList.add('colab-df-spinner');\n",
              "      try {\n",
              "        const charts = await google.colab.kernel.invokeFunction(\n",
              "            'suggestCharts', [key], {});\n",
              "      } catch (error) {\n",
              "        console.error('Error during call to suggestCharts:', error);\n",
              "      }\n",
              "      quickchartButtonEl.classList.remove('colab-df-spinner');\n",
              "      quickchartButtonEl.classList.add('colab-df-quickchart-complete');\n",
              "    }\n",
              "    (() => {\n",
              "      let quickchartButtonEl =\n",
              "        document.querySelector('#df-8726907c-7b2b-4ccd-83dd-f24d6d325ecf button');\n",
              "      quickchartButtonEl.style.display =\n",
              "        google.colab.kernel.accessAllowed ? 'block' : 'none';\n",
              "    })();\n",
              "  </script>\n",
              "</div>\n",
              "\n",
              "    </div>\n",
              "  </div>\n"
            ],
            "application/vnd.google.colaboratory.intrinsic+json": {
              "type": "dataframe",
              "variable_name": "data",
              "summary": "{\n  \"name\": \"data\",\n  \"rows\": 7050,\n  \"fields\": [\n    {\n      \"column\": \"step\",\n      \"properties\": {\n        \"dtype\": \"number\",\n        \"std\": 174.26629361110787,\n        \"min\": 6.0,\n        \"max\": 743.0,\n        \"num_unique_values\": 706,\n        \"samples\": [\n          436.0,\n          334.0,\n          272.0\n        ],\n        \"semantic_type\": \"\",\n        \"description\": \"\"\n      }\n    },\n    {\n      \"column\": \"type\",\n      \"properties\": {\n        \"dtype\": \"category\",\n        \"num_unique_values\": 5,\n        \"samples\": [\n          \"TRANSFER\",\n          \"DEBIT\",\n          \"CASH_IN\"\n        ],\n        \"semantic_type\": \"\",\n        \"description\": \"\"\n      }\n    },\n    {\n      \"column\": \"amount\",\n      \"properties\": {\n        \"dtype\": \"number\",\n        \"std\": 1533101.8553728303,\n        \"min\": 0.0,\n        \"max\": 25150812.84,\n        \"num_unique_values\": 6619,\n        \"samples\": [\n          228751.77,\n          2058961.66,\n          123611.6\n        ],\n        \"semantic_type\": \"\",\n        \"description\": \"\"\n      }\n    },\n    {\n      \"column\": \"nameOrig\",\n      \"properties\": {\n        \"dtype\": \"string\",\n        \"num_unique_values\": 6919,\n        \"samples\": [\n          \"C170337029\",\n          \"C256969629\",\n          \"C198926209\"\n        ],\n        \"semantic_type\": \"\",\n        \"description\": \"\"\n      }\n    },\n    {\n      \"column\": \"oldbalanceOrg\",\n      \"properties\": {\n        \"dtype\": \"number\",\n        \"std\": 3013717.0533310585,\n        \"min\": 0.0,\n        \"max\": 44892193.09,\n        \"num_unique_values\": 4889,\n        \"samples\": [\n          3657.0,\n          179725.06,\n          258128.41\n        ],\n        \"semantic_type\": \"\",\n        \"description\": \"\"\n      }\n    },\n    {\n      \"column\": \"newbalanceOrig\",\n      \"properties\": {\n        \"dtype\": \"number\",\n        \"std\": 2684439.309222874,\n        \"min\": 0.0,\n        \"max\": 34892193.09,\n        \"num_unique_values\": 2190,\n        \"samples\": [\n          29647.15,\n          111836.23,\n          97331.05\n        ],\n        \"semantic_type\": \"\",\n        \"description\": \"\"\n      }\n    },\n    {\n      \"column\": \"nameDest\",\n      \"properties\": {\n        \"dtype\": \"string\",\n        \"num_unique_values\": 6892,\n        \"samples\": [\n          \"C207258326\",\n          \"C699173824\",\n          \"C1442595689\"\n        ],\n        \"semantic_type\": \"\",\n        \"description\": \"\"\n      }\n    },\n    {\n      \"column\": \"oldbalanceDest\",\n      \"properties\": {\n        \"dtype\": \"number\",\n        \"std\": 4286751.277819117,\n        \"min\": 0.0,\n        \"max\": 277299714.06,\n        \"num_unique_values\": 3505,\n        \"samples\": [\n          28834.31,\n          506158.78,\n          1466500.26\n        ],\n        \"semantic_type\": \"\",\n        \"description\": \"\"\n      }\n    },\n    {\n      \"column\": \"newbalanceDest\",\n      \"properties\": {\n        \"dtype\": \"number\",\n        \"std\": 4897416.938206097,\n        \"min\": 0.0,\n        \"max\": 291667715.83,\n        \"num_unique_values\": 4022,\n        \"samples\": [\n          1379656.35,\n          2422177.82,\n          12423827.32\n        ],\n        \"semantic_type\": \"\",\n        \"description\": \"\"\n      }\n    },\n    {\n      \"column\": \"isFraud\",\n      \"properties\": {\n        \"dtype\": \"number\",\n        \"std\": 0.4541544970238071,\n        \"min\": 0.0,\n        \"max\": 1.0,\n        \"num_unique_values\": 2,\n        \"samples\": [\n          1.0,\n          0.0\n        ],\n        \"semantic_type\": \"\",\n        \"description\": \"\"\n      }\n    },\n    {\n      \"column\": \"isFlaggedFraud\",\n      \"properties\": {\n        \"dtype\": \"number\",\n        \"std\": 0.02381458409727409,\n        \"min\": 0.0,\n        \"max\": 1.0,\n        \"num_unique_values\": 2,\n        \"samples\": [\n          1.0,\n          0.0\n        ],\n        \"semantic_type\": \"\",\n        \"description\": \"\"\n      }\n    }\n  ]\n}"
            }
          },
          "metadata": {},
          "execution_count": 50
        }
      ]
    },
    {
      "cell_type": "code",
      "source": [
        "# Encode categorical variables\n",
        "label_encoder = LabelEncoder()\n",
        "data['type'] = label_encoder.fit_transform(data['type'])\n",
        "data['nameOrig'] = label_encoder.fit_transform(data['nameOrig'])\n",
        "data['nameDest'] = label_encoder.fit_transform(data['nameDest'])\n",
        "\n",
        "# Feature Engineering\n",
        "data['balance_change_orig'] = data['oldbalanceOrg'] - data['newbalanceOrig']\n",
        "data['balance_change_dest'] = data['oldbalanceDest'] - data['newbalanceDest']\n",
        "data['transaction_ratio_orig'] = data['amount'] / (data['oldbalanceOrg'] + 1)\n",
        "data['transaction_ratio_dest'] = data['amount'] / (data['oldbalanceDest'] + 1)\n",
        "\n",
        "# Handle missing values\n",
        "data.fillna(data.median(), inplace=True)\n",
        "\n",
        "# Drop unnecessary columns\n",
        "data.drop(columns=['nameDest', 'isFlaggedFraud'], inplace=True)\n",
        "\n",
        "# Split features and target\n",
        "X = data.drop(columns=['isFraud'])\n",
        "Y = data['isFraud']\n",
        "\n",
        "# Normalize features\n",
        "scaler = StandardScaler()\n",
        "X_scaled = scaler.fit_transform(X)"
      ],
      "metadata": {
        "id": "mx0GqrhyQfs_"
      },
      "execution_count": 51,
      "outputs": []
    },
    {
      "cell_type": "code",
      "source": [
        "# Split into train, validation, and test sets\n",
        "X_train, X_temp, Y_train, Y_temp = train_test_split(X_scaled, Y, test_size=0.3, random_state=42, stratify=Y)\n",
        "X_val, X_test, Y_val, Y_test = train_test_split(X_temp, Y_temp, test_size=0.5, random_state=42, stratify=Y_temp)\n",
        "\n",
        "# Apply SMOTE to handle class imbalance\n",
        "smote = SMOTE(sampling_strategy=1.0, random_state=42)\n",
        "X_train_resampled, Y_train_resampled = smote.fit_resample(X_train, Y_train)\n",
        "\n",
        "# Compute Class Weights\n",
        "class_weights = compute_class_weight(class_weight='balanced', classes=np.unique(Y_train_resampled), y=Y_train_resampled)\n",
        "class_weights_dict = {0: class_weights[0], 1: class_weights[1] * 3}"
      ],
      "metadata": {
        "id": "_hVQ3sO4Qx1N"
      },
      "execution_count": 52,
      "outputs": []
    },
    {
      "cell_type": "markdown",
      "source": [
        "#adam and L2"
      ],
      "metadata": {
        "id": "JD6IDwtbQlOy"
      }
    },
    {
      "cell_type": "code",
      "source": [
        "# Custom Focal Loss Function\n",
        "def focal_loss(alpha=0.75, gamma=3):\n",
        "    def loss(y_true, y_pred):\n",
        "        bce = binary_crossentropy(y_true, y_pred)\n",
        "        p_t = y_true * y_pred + (1 - y_true) * (1 - y_pred)\n",
        "        focal_term = alpha * K.pow((1 - p_t), gamma)\n",
        "        return focal_term * bce\n",
        "    return loss\n",
        "\n",
        "# Define the Advanced Neural Network Model with L2 Regularization\n",
        "inputs = Input(shape=(X_train_resampled.shape[1],))\n",
        "\n",
        "x = Dense(512, activation='relu', kernel_regularizer=l2(0.001))(inputs)\n",
        "x = BatchNormalization()(x)\n",
        "x = Dropout(0.4)(x)\n",
        "\n",
        "residual = Dense(512, activation='relu', kernel_regularizer=l2(0.001))(x)\n",
        "residual = BatchNormalization()(residual)\n",
        "residual = Dropout(0.3)(residual)\n",
        "\n",
        "x = Add()([x, residual])\n",
        "\n",
        "x = Dense(128, activation='relu', kernel_regularizer=l2(0.001))(x)\n",
        "x = BatchNormalization()(x)\n",
        "x = Dropout(0.3)(x)\n",
        "\n",
        "x = Dense(64, activation='relu', kernel_regularizer=l2(0.001))(x)\n",
        "x = BatchNormalization()(x)\n",
        "x = Dropout(0.2)(x)\n",
        "\n",
        "outputs = Dense(1, activation='sigmoid')(x)\n",
        "model = Model(inputs, outputs)\n",
        "\n",
        "# Compile Model\n",
        "optimizer = Adam(learning_rate=0.0003)\n",
        "model.compile(optimizer=optimizer, loss=focal_loss(alpha=0.75, gamma=3), metrics=['accuracy'])\n",
        "\n",
        "# Define Early Stopping Callback\n",
        "early_stopping = EarlyStopping(monitor='val_loss', patience=10, restore_best_weights=True)"
      ],
      "metadata": {
        "id": "o6GqXel6U4xJ"
      },
      "execution_count": 53,
      "outputs": []
    },
    {
      "cell_type": "code",
      "source": [
        "%%capture\n",
        "# Train the Model with Early Stopping\n",
        "history = model.fit(X_train_resampled, Y_train_resampled,\n",
        "                    validation_data=(X_val, Y_val),\n",
        "                    epochs=100, batch_size=256,\n",
        "                    class_weight=class_weights_dict,\n",
        "                    callbacks=[early_stopping],\n",
        "                    verbose=1)"
      ],
      "metadata": {
        "id": "6DQ1RgW2t0Ri"
      },
      "execution_count": 54,
      "outputs": []
    },
    {
      "cell_type": "code",
      "source": [
        "\n",
        "\n",
        "# Predict Probabilities\n",
        "Y_pred_probs = model.predict(X_test)\n",
        "\n",
        "# Adjust Classification Threshold Using Precision-Recall Curve\n",
        "precisions, recalls, thresholds = precision_recall_curve(Y_test, Y_pred_probs)\n",
        "best_threshold = thresholds[np.argmax(2 * (precisions * recalls) / (precisions + recalls))]\n",
        "\n",
        "# Convert Probabilities to Class Labels\n",
        "Y_pred = (Y_pred_probs > best_threshold).astype(\"int32\")\n",
        "\n",
        "# Calculate Accuracy, Precision, Recall, and F1 Score\n",
        "accuracy = accuracy_score(Y_test, Y_pred)\n",
        "f1 = f1_score(Y_test, Y_pred)\n",
        "precision = precision_score(Y_test, Y_pred)\n",
        "recall = recall_score(Y_test, Y_pred)\n",
        "\n",
        "print(f\"Accuracy: {accuracy:.4f}\")\n",
        "print(f\"F1 Score: {f1:.4f}\")\n",
        "print(f\"Precision: {precision:.4f}\")\n",
        "print(f\"Recall: {recall:.4f}\")\n",
        "\n",
        "# Confusion Matrix\n",
        "conf_matrix = confusion_matrix(Y_test, Y_pred)\n",
        "plt.figure(figsize=(6,4))\n",
        "sns.heatmap(conf_matrix, annot=True, fmt=\"d\", cmap=\"Blues\")\n",
        "plt.xlabel(\"Predicted\")\n",
        "plt.ylabel(\"Actual\")\n",
        "plt.title(\"Confusion Matrix\")\n",
        "plt.show()\n"
      ],
      "metadata": {
        "id": "qxuV0UXlawb9",
        "outputId": "a59931c9-c04e-4d24-d0fd-7ee9b0e6e894",
        "colab": {
          "base_uri": "https://localhost:8080/",
          "height": 497
        }
      },
      "execution_count": 55,
      "outputs": [
        {
          "output_type": "stream",
          "name": "stdout",
          "text": [
            "\u001b[1m34/34\u001b[0m \u001b[32m━━━━━━━━━━━━━━━━━━━━\u001b[0m\u001b[37m\u001b[0m \u001b[1m0s\u001b[0m 8ms/step\n",
            "Accuracy: 0.9849\n",
            "F1 Score: 0.9739\n",
            "Precision: 0.9771\n",
            "Recall: 0.9708\n"
          ]
        },
        {
          "output_type": "display_data",
          "data": {
            "text/plain": [
              "<Figure size 600x400 with 2 Axes>"
            ],
            "image/png": "[encoded data removed]"
          },
          "metadata": {}
        }
      ]
    },
    {
      "cell_type": "markdown",
      "source": [
        "#RMSprop and L1"
      ],
      "metadata": {
        "id": "8nF_zJE6RWN2"
      }
    },
    {
      "cell_type": "code",
      "source": [
        "# Define the Advanced Neural Network Model with L1 Regularization\n",
        "inputs = Input(shape=(X_train_resampled.shape[1],))\n",
        "\n",
        "x = Dense(512, activation='relu', kernel_regularizer=l1(0.001))(inputs)\n",
        "x = BatchNormalization()(x)\n",
        "x = Dropout(0.4)(x)\n",
        "\n",
        "residual = Dense(512, activation='relu', kernel_regularizer=l1(0.001))(x)\n",
        "residual = BatchNormalization()(residual)\n",
        "residual = Dropout(0.3)(residual)\n",
        "\n",
        "x = Add()([x, residual])\n",
        "\n",
        "x = Dense(128, activation='relu', kernel_regularizer=l1(0.001))(x)\n",
        "x = BatchNormalization()(x)\n",
        "x = Dropout(0.3)(x)\n",
        "\n",
        "x = Dense(64, activation='relu', kernel_regularizer=l1(0.001))(x)\n",
        "x = BatchNormalization()(x)\n",
        "x = Dropout(0.2)(x)\n",
        "\n",
        "outputs = Dense(1, activation='sigmoid')(x)\n",
        "model = Model(inputs, outputs)\n",
        "\n",
        "# Compile Model\n",
        "optimizer = RMSprop(learning_rate=0.0005)\n",
        "model.compile(optimizer=optimizer, loss='binary_crossentropy', metrics=['accuracy'])\n",
        "\n",
        "# Define Early Stopping Callback\n",
        "early_stopping = EarlyStopping(monitor='val_loss', patience=10, restore_best_weights=True)"
      ],
      "metadata": {
        "id": "rbt17o6Ztrup"
      },
      "execution_count": 56,
      "outputs": []
    },
    {
      "cell_type": "code",
      "source": [
        "%%capture\n",
        "# Train the Model with Early Stopping\n",
        "history = model.fit(X_train_resampled, Y_train_resampled,\n",
        "                    validation_data=(X_val, Y_val),\n",
        "                    epochs=100, batch_size=256,\n",
        "                    class_weight=class_weights_dict,\n",
        "                    callbacks=[early_stopping],\n",
        "                    verbose=1)"
      ],
      "metadata": {
        "id": "UryzYIvGttD0"
      },
      "execution_count": 57,
      "outputs": []
    },
    {
      "cell_type": "code",
      "source": [
        "\n",
        "# Predict Probabilities\n",
        "Y_pred_probs = model.predict(X_test)\n",
        "\n",
        "# Convert Probabilities to Class Labels\n",
        "Y_pred = (Y_pred_probs > 0.5).astype(\"int32\")\n",
        "\n",
        "# Calculate Accuracy, Precision, Recall, and F1 Score\n",
        "accuracy = accuracy_score(Y_test, Y_pred)\n",
        "f1 = f1_score(Y_test, Y_pred)\n",
        "precision = precision_score(Y_test, Y_pred)\n",
        "recall = recall_score(Y_test, Y_pred)\n",
        "\n",
        "print(f\"Accuracy: {accuracy:.4f}\")\n",
        "print(f\"F1 Score: {f1:.4f}\")\n",
        "print(f\"Precision: {precision:.4f}\")\n",
        "print(f\"Recall: {recall:.4f}\")\n",
        "\n",
        "# Confusion Matrix\n",
        "conf_matrix = confusion_matrix(Y_test, Y_pred)\n",
        "plt.figure(figsize=(6,4))\n",
        "sns.heatmap(conf_matrix, annot=True, fmt=\"d\", cmap=\"Blues\")\n",
        "plt.xlabel(\"Predicted\")\n",
        "plt.ylabel(\"Actual\")\n",
        "plt.title(\"Confusion Matrix\")\n",
        "plt.show()"
      ],
      "metadata": {
        "id": "bxgMg5pHbtQM",
        "outputId": "3af9fc60-76da-4886-ab4f-de59cde85826",
        "colab": {
          "base_uri": "https://localhost:8080/",
          "height": 497
        }
      },
      "execution_count": 58,
      "outputs": [
        {
          "output_type": "stream",
          "name": "stdout",
          "text": [
            "\u001b[1m34/34\u001b[0m \u001b[32m━━━━━━━━━━━━━━━━━━━━\u001b[0m\u001b[37m\u001b[0m \u001b[1m0s\u001b[0m 8ms/step\n",
            "Accuracy: 0.9839\n",
            "F1 Score: 0.9721\n",
            "Precision: 0.9834\n",
            "Recall: 0.9610\n"
          ]
        },
        {
          "output_type": "display_data",
          "data": {
            "text/plain": [
              "<Figure size 600x400 with 2 Axes>"
            ],
            "image/png": "[encoded data removed]"
          },
          "metadata": {}
        }
      ]
    },
    {
      "cell_type": "markdown",
      "source": [
        "#SDG and l1-l2"
      ],
      "metadata": {
        "id": "J05tF3GGSuAh"
      }
    },
    {
      "cell_type": "code",
      "source": [
        "# Define the Advanced Neural Network Model with L1_L2 Regularization\n",
        "inputs = Input(shape=(X_train_resampled.shape[1],))\n",
        "\n",
        "x = Dense(512, activation='relu', kernel_regularizer=l1_l2(l1=0.0005, l2=0.0005))(inputs)\n",
        "x = BatchNormalization()(x)\n",
        "x = Dropout(0.4)(x)\n",
        "\n",
        "residual = Dense(512, activation='relu', kernel_regularizer=l1_l2(l1=0.0005, l2=0.0005))(x)\n",
        "residual = BatchNormalization()(residual)\n",
        "residual = Dropout(0.3)(residual)\n",
        "\n",
        "x = Add()([x, residual])\n",
        "\n",
        "x = Dense(128, activation='relu', kernel_regularizer=l1_l2(l1=0.0005, l2=0.0005))(x)\n",
        "x = BatchNormalization()(x)\n",
        "x = Dropout(0.3)(x)\n",
        "\n",
        "x = Dense(64, activation='relu', kernel_regularizer=l1_l2(l1=0.0005, l2=0.0005))(x)\n",
        "x = BatchNormalization()(x)\n",
        "x = Dropout(0.2)(x)\n",
        "\n",
        "outputs = Dense(1, activation='sigmoid')(x)\n",
        "model = Model(inputs, outputs)\n",
        "\n",
        "# Compile Model\n",
        "optimizer = SGD(learning_rate=0.001, momentum=0.9)\n",
        "model.compile(optimizer=optimizer, loss='binary_crossentropy', metrics=['accuracy'])\n",
        "\n",
        "# Define Early Stopping Callback\n",
        "early_stopping = EarlyStopping(monitor='val_loss', patience=10, restore_best_weights=True)"
      ],
      "metadata": {
        "id": "Yjw5964HwRuL"
      },
      "execution_count": 59,
      "outputs": []
    },
    {
      "cell_type": "code",
      "source": [
        "%%capture\n",
        "# Train the Model with Early Stopping\n",
        "history = model.fit(X_train_resampled, Y_train_resampled,\n",
        "                    validation_data=(X_val, Y_val),\n",
        "                    epochs=100, batch_size=256,\n",
        "                    class_weight=class_weights_dict,\n",
        "                    callbacks=[early_stopping],\n",
        "                    verbose=1)"
      ],
      "metadata": {
        "id": "eRLv3gN_wRkT"
      },
      "execution_count": 60,
      "outputs": []
    },
    {
      "cell_type": "code",
      "source": [
        "# Predict Probabilities\n",
        "Y_pred_probs = model.predict(X_test)\n",
        "\n",
        "# Convert Probabilities to Class Labels\n",
        "Y_pred = (Y_pred_probs > 0.5).astype(\"int32\")\n",
        "\n",
        "# Calculate Accuracy, Precision, Recall, and F1 Score\n",
        "accuracy = accuracy_score(Y_test, Y_pred)\n",
        "f1 = f1_score(Y_test, Y_pred)\n",
        "precision = precision_score(Y_test, Y_pred)\n",
        "recall = recall_score(Y_test, Y_pred)\n",
        "\n",
        "print(f\"Accuracy: {accuracy:.4f}\")\n",
        "print(f\"F1 Score: {f1:.4f}\")\n",
        "print(f\"Precision: {precision:.4f}\")\n",
        "print(f\"Recall: {recall:.4f}\")\n",
        "\n",
        "# Confusion Matrix\n",
        "conf_matrix = confusion_matrix(Y_test, Y_pred)\n",
        "plt.figure(figsize=(6,4))\n",
        "sns.heatmap(conf_matrix, annot=True, fmt=\"d\", cmap=\"Blues\")\n",
        "plt.xlabel(\"Predicted\")\n",
        "plt.ylabel(\"Actual\")\n",
        "plt.title(\"Confusion Matrix\")\n",
        "plt.show()\n"
      ],
      "metadata": {
        "id": "t_iUFoAfcluw",
        "outputId": "564ede18-0612-441c-e8fd-c1914aab8e7b",
        "colab": {
          "base_uri": "https://localhost:8080/",
          "height": 497
        }
      },
      "execution_count": 61,
      "outputs": [
        {
          "output_type": "stream",
          "name": "stdout",
          "text": [
            "\u001b[1m34/34\u001b[0m \u001b[32m━━━━━━━━━━━━━━━━━━━━\u001b[0m\u001b[37m\u001b[0m \u001b[1m0s\u001b[0m 7ms/step\n",
            "Accuracy: 0.9669\n",
            "F1 Score: 0.9461\n",
            "Precision: 0.9003\n",
            "Recall: 0.9968\n"
          ]
        },
        {
          "output_type": "display_data",
          "data": {
            "text/plain": [
              "<Figure size 600x400 with 2 Axes>"
            ],
            "image/png": "[encoded data removed]"
          },
          "metadata": {}
        }
      ]
    },
    {
      "cell_type": "markdown",
      "source": [
        "#classical Loogistic regression\n"
      ],
      "metadata": {
        "id": "r8U2q9ilS-e7"
      }
    },
    {
      "cell_type": "code",
      "source": [
        "# Feature Selection\n",
        "selector = SelectKBest(f_classif, k=10)  # Keep 10 best features\n",
        "X_selected = selector.fit_transform(X_scaled, Y)\n",
        "\n",
        "# Split into train and test sets\n",
        "X_train, X_test, Y_train, Y_test = train_test_split(X_selected, Y, test_size=0.3, random_state=42, stratify=Y)\n",
        "\n",
        "# Apply SMOTE to handle class imbalance\n",
        "smote = SMOTE(sampling_strategy=0.5, random_state=42)\n",
        "X_train_resampled, Y_train_resampled = smote.fit_resample(X_train, Y_train)\n",
        "\n",
        "# Hyperparameter tuning using GridSearchCV\n",
        "param_grid = {'C': [0.01, 0.1, 1, 10, 100], 'solver': ['liblinear', 'lbfgs']}\n",
        "grid_search = GridSearchCV(LogisticRegression(class_weight='balanced', random_state=42), param_grid, cv=5, scoring='f1')\n",
        "grid_search.fit(X_train_resampled, Y_train_resampled)\n",
        "best_model = grid_search.best_estimator_\n",
        "\n",
        "# Make predictions\n",
        "Y_pred = best_model.predict(X_test)\n",
        "\n",
        "# Evaluate the model\n",
        "accuracy = accuracy_score(Y_test, Y_pred)\n",
        "precision = precision_score(Y_test, Y_pred)\n",
        "recall = recall_score(Y_test, Y_pred)\n",
        "f1 = f1_score(Y_test, Y_pred)\n",
        "\n",
        "# Print evaluation metrics\n",
        "print(f\"Best Parameters: {grid_search.best_params_}\")\n",
        "print(f\"Accuracy: {accuracy:.4f}\")\n",
        "print(f\"Precision: {precision:.4f}\")\n",
        "print(f\"Recall: {recall:.4f}\")\n",
        "print(f\"F1 Score: {f1:.4f}\")\n",
        "\n",
        "# Generate Confusion Matrix\n",
        "conf_matrix = confusion_matrix(Y_test, Y_pred)\n",
        "\n",
        "# Plot Confusion Matrix\n",
        "plt.figure(figsize=(6,4))\n",
        "sns.heatmap(conf_matrix, annot=True, fmt=\"d\", cmap=\"Blues\")\n",
        "plt.xlabel(\"Predicted\")\n",
        "plt.ylabel(\"Actual\")\n",
        "plt.title(\"Confusion Matrix\")\n",
        "plt.show()\n",
        "\n",
        "# Plot Actual vs Predicted values\n",
        "plt.figure(figsize=(10,5))\n",
        "plt.plot(Y_test.values[:100], label=\"Actual\", marker='o', linestyle=\"\")\n",
        "plt.plot(Y_pred[:100], label=\"Predicted\", marker='x', linestyle=\"\")\n",
        "plt.xlabel(\"Sample Index\")\n",
        "plt.ylabel(\"Fraud Label (0=No Fraud, 1=Fraud)\")\n",
        "plt.title(\"Actual vs Predicted Fraud Cases\")\n",
        "plt.legend()\n",
        "plt.show()\n"
      ],
      "metadata": {
        "id": "gbhh4bopj5nC",
        "outputId": "8bb0c29d-b8e9-4620-a9b4-c42839dd2468",
        "colab": {
          "base_uri": "https://localhost:8080/",
          "height": 967
        }
      },
      "execution_count": 62,
      "outputs": [
        {
          "output_type": "stream",
          "name": "stdout",
          "text": [
            "Best Parameters: {'C': 100, 'solver': 'lbfgs'}\n",
            "Accuracy: 0.9371\n",
            "Precision: 0.8912\n",
            "Recall: 0.8927\n",
            "F1 Score: 0.8920\n"
          ]
        },
        {
          "output_type": "display_data",
          "data": {
            "text/plain": [
              "<Figure size 600x400 with 2 Axes>"
            ],
            "image/png": "[encoded data removed]"
          },
          "metadata": {}
        },
        {
          "output_type": "display_data",
          "data": {
            "text/plain": [
              "<Figure size 1000x500 with 1 Axes>"
            ],
            "image/png": "[encoded data removed]"
          },
          "metadata": {}
        }
      ]
    },
    {
      "cell_type": "code",
      "source": [],
      "metadata": {
        "id": "WSaV70MVpL9i"
      },
      "execution_count": 62,
      "outputs": []
    },
    {
      "cell_type": "markdown",
      "source": [
        "#A simple machine learning model without an optimizer"
      ],
      "metadata": {
        "id": "lqn0mmApTz7k"
      }
    },
    {
      "cell_type": "code",
      "source": [
        "# Split into train and test sets\n",
        "X_train, X_test, Y_train, Y_test = train_test_split(X_scaled, Y, test_size=0.3, random_state=42, stratify=Y)\n",
        "\n",
        "# Define a simple neural network model without specifying an optimizer\n",
        "model = Sequential([\n",
        "    Dense(64, activation='relu', input_shape=(X_train.shape[1],)),\n",
        "    Dense(32, activation='relu'),\n",
        "    Dense(1, activation='sigmoid')\n",
        "])\n",
        "\n",
        "# Compile the model without specifying an optimizer\n",
        "model.compile(loss='binary_crossentropy', metrics=['accuracy'])\n",
        "\n",
        "# Train the model\n",
        "model.fit(X_train, Y_train, validation_data=(X_test, Y_test), epochs=10, batch_size=32, verbose=1)\n",
        "\n",
        "# Make predictions\n",
        "Y_pred_probs = model.predict(X_test)\n",
        "Y_pred = (Y_pred_probs > 0.5).astype(int)\n",
        "\n",
        "# Evaluate the model\n",
        "accuracy = accuracy_score(Y_test, Y_pred)\n",
        "precision = precision_score(Y_test, Y_pred)\n",
        "recall = recall_score(Y_test, Y_pred)\n",
        "f1 = f1_score(Y_test, Y_pred)\n",
        "\n",
        "# Print evaluation metrics\n",
        "print(f\"Accuracy: {accuracy:.4f}\")\n",
        "print(f\"Precision: {precision:.4f}\")\n",
        "print(f\"Recall: {recall:.4f}\")\n",
        "print(f\"F1 Score: {f1:.4f}\")\n",
        "\n",
        "# Generate Confusion Matrix\n",
        "conf_matrix = confusion_matrix(Y_test, Y_pred)\n",
        "\n",
        "# Plot Confusion Matrix\n",
        "plt.figure(figsize=(6,4))\n",
        "sns.heatmap(conf_matrix, annot=True, fmt=\"d\", cmap=\"Blues\")\n",
        "plt.xlabel(\"Predicted\")\n",
        "plt.ylabel(\"Actual\")\n",
        "plt.title(\"Confusion Matrix\")\n",
        "plt.show()\n",
        "\n",
        "# Plot Actual vs Predicted values\n",
        "plt.figure(figsize=(10,5))\n",
        "plt.plot(Y_test.values[:100], label=\"Actual\", marker='o', linestyle=\"\")\n",
        "plt.plot(Y_pred[:100], label=\"Predicted\", marker='x', linestyle=\"\")\n",
        "plt.xlabel(\"Sample Index\")\n",
        "plt.ylabel(\"Fraud Label (0=No Fraud, 1=Fraud)\")\n",
        "plt.title(\"Actual vs Predicted Fraud Cases\")\n",
        "plt.legend()\n",
        "plt.show()\n"
      ],
      "metadata": {
        "id": "QZ0UfPlBpL1D",
        "outputId": "b9cdb83e-62a4-4b4f-ef7c-6d2def1434ed",
        "colab": {
          "base_uri": "https://localhost:8080/",
          "height": 1000
        }
      },
      "execution_count": 63,
      "outputs": [
        {
          "output_type": "stream",
          "name": "stdout",
          "text": [
            "Epoch 1/10\n"
          ]
        },
        {
          "output_type": "stream",
          "name": "stderr",
          "text": [
            "/usr/local/lib/python3.11/dist-packages/keras/src/layers/core/dense.py:87: UserWarning: Do not pass an `input_shape`/`input_dim` argument to a layer. When using Sequential models, prefer using an `Input(shape)` object as the first layer in the model instead.\n",
            "  super().__init__(activity_regularizer=activity_regularizer, **kwargs)\n"
          ]
        },
        {
          "output_type": "stream",
          "name": "stdout",
          "text": [
            "\u001b[1m155/155\u001b[0m \u001b[32m━━━━━━━━━━━━━━━━━━━━\u001b[0m\u001b[37m\u001b[0m \u001b[1m2s\u001b[0m 5ms/step - accuracy: 0.8085 - loss: 0.4705 - val_accuracy: 0.8785 - val_loss: 0.3101\n",
            "Epoch 2/10\n",
            "\u001b[1m155/155\u001b[0m \u001b[32m━━━━━━━━━━━━━━━━━━━━\u001b[0m\u001b[37m\u001b[0m \u001b[1m1s\u001b[0m 4ms/step - accuracy: 0.8934 - loss: 0.2670 - val_accuracy: 0.9092 - val_loss: 0.2440\n",
            "Epoch 3/10\n",
            "\u001b[1m155/155\u001b[0m \u001b[32m━━━━━━━━━━━━━━━━━━━━\u001b[0m\u001b[37m\u001b[0m \u001b[1m1s\u001b[0m 3ms/step - accuracy: 0.9187 - loss: 0.2079 - val_accuracy: 0.9225 - val_loss: 0.1960\n",
            "Epoch 4/10\n",
            "\u001b[1m155/155\u001b[0m \u001b[32m━━━━━━━━━━━━━━━━━━━━\u001b[0m\u001b[37m\u001b[0m \u001b[1m1s\u001b[0m 4ms/step - accuracy: 0.9299 - loss: 0.1672 - val_accuracy: 0.9310 - val_loss: 0.1686\n",
            "Epoch 5/10\n",
            "\u001b[1m155/155\u001b[0m \u001b[32m━━━━━━━━━━━━━━━━━━━━\u001b[0m\u001b[37m\u001b[0m \u001b[1m1s\u001b[0m 3ms/step - accuracy: 0.9441 - loss: 0.1419 - val_accuracy: 0.9362 - val_loss: 0.1512\n",
            "Epoch 6/10\n",
            "\u001b[1m155/155\u001b[0m \u001b[32m━━━━━━━━━━━━━━━━━━━━\u001b[0m\u001b[37m\u001b[0m \u001b[1m1s\u001b[0m 3ms/step - accuracy: 0.9443 - loss: 0.1343 - val_accuracy: 0.9551 - val_loss: 0.1245\n",
            "Epoch 7/10\n",
            "\u001b[1m155/155\u001b[0m \u001b[32m━━━━━━━━━━━━━━━━━━━━\u001b[0m\u001b[37m\u001b[0m \u001b[1m1s\u001b[0m 3ms/step - accuracy: 0.9513 - loss: 0.1230 - val_accuracy: 0.9504 - val_loss: 0.1336\n",
            "Epoch 8/10\n",
            "\u001b[1m155/155\u001b[0m \u001b[32m━━━━━━━━━━━━━━━━━━━━\u001b[0m\u001b[37m\u001b[0m \u001b[1m1s\u001b[0m 4ms/step - accuracy: 0.9615 - loss: 0.1007 - val_accuracy: 0.9456 - val_loss: 0.1399\n",
            "Epoch 9/10\n",
            "\u001b[1m155/155\u001b[0m \u001b[32m━━━━━━━━━━━━━━━━━━━━\u001b[0m\u001b[37m\u001b[0m \u001b[1m1s\u001b[0m 3ms/step - accuracy: 0.9603 - loss: 0.1060 - val_accuracy: 0.9527 - val_loss: 0.1074\n",
            "Epoch 10/10\n",
            "\u001b[1m155/155\u001b[0m \u001b[32m━━━━━━━━━━━━━━━━━━━━\u001b[0m\u001b[37m\u001b[0m \u001b[1m1s\u001b[0m 3ms/step - accuracy: 0.9623 - loss: 0.0957 - val_accuracy: 0.9551 - val_loss: 0.1083\n",
            "\u001b[1m67/67\u001b[0m \u001b[32m━━━━━━━━━━━━━━━━━━━━\u001b[0m\u001b[37m\u001b[0m \u001b[1m0s\u001b[0m 2ms/step\n",
            "Accuracy: 0.9551\n",
            "Precision: 0.9577\n",
            "Recall: 0.8846\n",
            "F1 Score: 0.9197\n"
          ]
        },
        {
          "output_type": "display_data",
          "data": {
            "text/plain": [
              "<Figure size 600x400 with 2 Axes>"
            ],
            "image/png": "[encoded data removed]"
          },
          "metadata": {}
        },
        {
          "output_type": "display_data",
          "data": {
            "text/plain": [
              "<Figure size 1000x500 with 1 Axes>"
            ],
            "image/png": "[encoded data removed]"
          },
          "metadata": {}
        }
      ]
    },
    {
      "cell_type": "code",
      "source": [],
      "metadata": {
        "id": "p9Vk-G4ZpVC5"
      },
      "execution_count": 63,
      "outputs": []
    },
    {
      "cell_type": "markdown",
      "source": [
        "#Nadam + l2"
      ],
      "metadata": {
        "id": "VHrVUThDbMML"
      }
    },
    {
      "cell_type": "code",
      "source": [
        "# Custom Focal Loss Function\n",
        "def focal_loss(alpha=0.75, gamma=3):\n",
        "    def loss(y_true, y_pred):\n",
        "        bce = binary_crossentropy(y_true, y_pred)\n",
        "        p_t = y_true * y_pred + (1 - y_true) * (1 - y_pred)\n",
        "        focal_term = alpha * K.pow((1 - p_t), gamma)\n",
        "        return focal_term * bce\n",
        "    return loss\n",
        "\n",
        "# Define the Advanced Neural Network Model with L2 Regularization\n",
        "inputs = Input(shape=(X_train_resampled.shape[1],))\n",
        "\n",
        "x = Dense(512, activation='relu', kernel_regularizer=l2(0.001))(inputs)\n",
        "x = BatchNormalization()(x)\n",
        "x = Dropout(0.4)(x)\n",
        "\n",
        "residual = Dense(512, activation='relu', kernel_regularizer=l2(0.001))(x)\n",
        "residual = BatchNormalization()(residual)\n",
        "residual = Dropout(0.3)(residual)\n",
        "\n",
        "x = Add()([x, residual])\n",
        "\n",
        "x = Dense(128, activation='relu', kernel_regularizer=l2(0.001))(x)\n",
        "x = BatchNormalization()(x)\n",
        "x = Dropout(0.3)(x)\n",
        "\n",
        "x = Dense(64, activation='relu', kernel_regularizer=l2(0.001))(x)\n",
        "x = BatchNormalization()(x)\n",
        "x = Dropout(0.2)(x)\n",
        "\n",
        "outputs = Dense(1, activation='sigmoid')(x)\n",
        "model = Model(inputs, outputs)\n",
        "\n",
        "# Compile Model with Nadam Optimizer\n",
        "optimizer = Nadam(learning_rate=0.0003)\n",
        "model.compile(optimizer=optimizer, loss=focal_loss(alpha=0.75, gamma=3), metrics=['accuracy'])\n",
        "\n",
        "# Define Early Stopping Callback\n",
        "early_stopping = EarlyStopping(monitor='val_loss', patience=10, restore_best_weights=True)\n",
        "\n",
        "# Train the Model with Early Stopping\n",
        "history = model.fit(X_train_resampled, Y_train_resampled,\n",
        "                    validation_data=(X_val, Y_val),\n",
        "                    epochs=100, batch_size=256,\n",
        "                    class_weight=class_weights_dict,\n",
        "                    callbacks=[early_stopping],\n",
        "                    verbose=1)\n",
        "\n",
        "# Predict Probabilities\n",
        "Y_pred_probs = model.predict(X_test)\n",
        "\n",
        "# Adjust Classification Threshold Using Precision-Recall Curve\n",
        "precisions, recalls, thresholds = precision_recall_curve(Y_test, Y_pred_probs)\n",
        "best_threshold = thresholds[np.argmax(2 * (precisions * recalls) / (precisions + recalls))]\n",
        "\n",
        "# Convert Probabilities to Class Labels\n",
        "Y_pred = (Y_pred_probs > best_threshold).astype(\"int32\")\n",
        "\n",
        "# Calculate Accuracy, Precision, Recall, and F1 Score\n",
        "accuracy = accuracy_score(Y_test, Y_pred)\n",
        "f1 = f1_score(Y_test, Y_pred)\n",
        "precision = precision_score(Y_test, Y_pred)\n",
        "recall = recall_score(Y_test, Y_pred)\n",
        "\n",
        "print(f\"Accuracy: {accuracy:.4f}\")\n",
        "print(f\"F1 Score: {f1:.4f}\")\n",
        "print(f\"Precision: {precision:.4f}\")\n",
        "print(f\"Recall: {recall:.4f}\")\n",
        "\n",
        "# Confusion Matrix\n",
        "conf_matrix = confusion_matrix(Y_test, Y_pred)\n",
        "plt.figure(figsize=(6,4))\n",
        "sns.heatmap(conf_matrix, annot=True, fmt=\"d\", cmap=\"Blues\")\n",
        "plt.xlabel(\"Predicted\")\n",
        "plt.ylabel(\"Actual\")\n",
        "plt.title(\"Confusion Matrix\")\n",
        "plt.show()"
      ],
      "metadata": {
        "id": "8fbqxWllg_cM",
        "outputId": "9d7b311e-3730-4186-b1df-108995e522c5",
        "colab": {
          "base_uri": "https://localhost:8080/",
          "height": 391
        }
      },
      "execution_count": 64,
      "outputs": [
        {
          "output_type": "stream",
          "name": "stdout",
          "text": [
            "Epoch 1/100\n",
            "\u001b[1m21/21\u001b[0m \u001b[32m━━━━━━━━━━━━━━━━━━━━\u001b[0m\u001b[37m\u001b[0m \u001b[1m0s\u001b[0m 29ms/step - accuracy: 0.6354 - loss: 0.9501"
          ]
        },
        {
          "output_type": "error",
          "ename": "ValueError",
          "evalue": "Input 0 of layer \"functional_19\" is incompatible with the layer: expected shape=(None, 10), found shape=(None, 12)",
          "traceback": [
            "\u001b[0;31m---------------------------------------------------------------------------\u001b[0m",
            "\u001b[0;31mValueError\u001b[0m                                Traceback (most recent call last)",
            "\u001b[0;32m<ipython-input-64-ae005768096f>\u001b[0m in \u001b[0;36m<cell line: 0>\u001b[0;34m()\u001b[0m\n\u001b[1;32m     40\u001b[0m \u001b[0;34m\u001b[0m\u001b[0m\n\u001b[1;32m     41\u001b[0m \u001b[0;31m# Train the Model with Early Stopping\u001b[0m\u001b[0;34m\u001b[0m\u001b[0;34m\u001b[0m\u001b[0m\n\u001b[0;32m---> 42\u001b[0;31m history = model.fit(X_train_resampled, Y_train_resampled,\n\u001b[0m\u001b[1;32m     43\u001b[0m                     \u001b[0mvalidation_data\u001b[0m\u001b[0;34m=\u001b[0m\u001b[0;34m(\u001b[0m\u001b[0mX_val\u001b[0m\u001b[0;34m,\u001b[0m \u001b[0mY_val\u001b[0m\u001b[0;34m)\u001b[0m\u001b[0;34m,\u001b[0m\u001b[0;34m\u001b[0m\u001b[0;34m\u001b[0m\u001b[0m\n\u001b[1;32m     44\u001b[0m                     \u001b[0mepochs\u001b[0m\u001b[0;34m=\u001b[0m\u001b[0;36m100\u001b[0m\u001b[0;34m,\u001b[0m \u001b[0mbatch_size\u001b[0m\u001b[0;34m=\u001b[0m\u001b[0;36m256\u001b[0m\u001b[0;34m,\u001b[0m\u001b[0;34m\u001b[0m\u001b[0;34m\u001b[0m\u001b[0m\n",
            "\u001b[0;32m/usr/local/lib/python3.11/dist-packages/keras/src/utils/traceback_utils.py\u001b[0m in \u001b[0;36merror_handler\u001b[0;34m(*args, **kwargs)\u001b[0m\n\u001b[1;32m    120\u001b[0m             \u001b[0;31m# To get the full stack trace, call:\u001b[0m\u001b[0;34m\u001b[0m\u001b[0;34m\u001b[0m\u001b[0m\n\u001b[1;32m    121\u001b[0m             \u001b[0;31m# `keras.config.disable_traceback_filtering()`\u001b[0m\u001b[0;34m\u001b[0m\u001b[0;34m\u001b[0m\u001b[0m\n\u001b[0;32m--> 122\u001b[0;31m             \u001b[0;32mraise\u001b[0m \u001b[0me\u001b[0m\u001b[0;34m.\u001b[0m\u001b[0mwith_traceback\u001b[0m\u001b[0;34m(\u001b[0m\u001b[0mfiltered_tb\u001b[0m\u001b[0;34m)\u001b[0m \u001b[0;32mfrom\u001b[0m \u001b[0;32mNone\u001b[0m\u001b[0;34m\u001b[0m\u001b[0;34m\u001b[0m\u001b[0m\n\u001b[0m\u001b[1;32m    123\u001b[0m         \u001b[0;32mfinally\u001b[0m\u001b[0;34m:\u001b[0m\u001b[0;34m\u001b[0m\u001b[0;34m\u001b[0m\u001b[0m\n\u001b[1;32m    124\u001b[0m             \u001b[0;32mdel\u001b[0m \u001b[0mfiltered_tb\u001b[0m\u001b[0;34m\u001b[0m\u001b[0;34m\u001b[0m\u001b[0m\n",
            "\u001b[0;32m/usr/local/lib/python3.11/dist-packages/keras/src/layers/input_spec.py\u001b[0m in \u001b[0;36massert_input_compatibility\u001b[0;34m(input_spec, inputs, layer_name)\u001b[0m\n\u001b[1;32m    243\u001b[0m                 \u001b[0;32mif\u001b[0m \u001b[0mspec_dim\u001b[0m \u001b[0;32mis\u001b[0m \u001b[0;32mnot\u001b[0m \u001b[0;32mNone\u001b[0m \u001b[0;32mand\u001b[0m \u001b[0mdim\u001b[0m \u001b[0;32mis\u001b[0m \u001b[0;32mnot\u001b[0m \u001b[0;32mNone\u001b[0m\u001b[0;34m:\u001b[0m\u001b[0;34m\u001b[0m\u001b[0;34m\u001b[0m\u001b[0m\n\u001b[1;32m    244\u001b[0m                     \u001b[0;32mif\u001b[0m \u001b[0mspec_dim\u001b[0m \u001b[0;34m!=\u001b[0m \u001b[0mdim\u001b[0m\u001b[0;34m:\u001b[0m\u001b[0;34m\u001b[0m\u001b[0;34m\u001b[0m\u001b[0m\n\u001b[0;32m--> 245\u001b[0;31m                         raise ValueError(\n\u001b[0m\u001b[1;32m    246\u001b[0m                             \u001b[0;34mf'Input {input_index} of layer \"{layer_name}\" is '\u001b[0m\u001b[0;34m\u001b[0m\u001b[0;34m\u001b[0m\u001b[0m\n\u001b[1;32m    247\u001b[0m                             \u001b[0;34m\"incompatible with the layer: \"\u001b[0m\u001b[0;34m\u001b[0m\u001b[0;34m\u001b[0m\u001b[0m\n",
            "\u001b[0;31mValueError\u001b[0m: Input 0 of layer \"functional_19\" is incompatible with the layer: expected shape=(None, 10), found shape=(None, 12)"
          ]
        }
      ]
    },
    {
      "cell_type": "code",
      "source": [],
      "metadata": {
        "id": "kjnK2Dau92Ry"
      },
      "execution_count": null,
      "outputs": []
    }
  ]
}